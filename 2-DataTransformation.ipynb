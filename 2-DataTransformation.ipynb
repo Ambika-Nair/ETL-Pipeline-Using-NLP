{
 "cells": [
  {
   "cell_type": "code",
   "execution_count": 3,
   "metadata": {},
   "outputs": [],
   "source": [
    "#Importing necessary libraries\n",
    "\n",
    "import pandas as pd"
   ]
  },
  {
   "cell_type": "code",
   "execution_count": 4,
   "metadata": {},
   "outputs": [],
   "source": [
    "# *Fetching input file and setting the path to store processed file\n",
    "input_file = 'Raw_Chicago_Food_Inspections.csv'\n",
    "\n",
    "preprocessed_file = 'Outputs/Processed_Chicago_Food_Inspections.csv'"
   ]
  },
  {
   "cell_type": "code",
   "execution_count": 5,
   "metadata": {},
   "outputs": [],
   "source": [
    "# Reading the raw input csv file.\n",
    "food_inspections_df = pd.read_csv(input_file)"
   ]
  },
  {
   "cell_type": "code",
   "execution_count": 6,
   "metadata": {},
   "outputs": [
    {
     "data": {
      "text/plain": [
       "(114571, 24)"
      ]
     },
     "execution_count": 6,
     "metadata": {},
     "output_type": "execute_result"
    }
   ],
   "source": [
    "#Getting basics insights on the dataset.\n",
    "\n",
    "food_inspections_df.shape\n",
    "\n",
    "#The dataset contains 114571 rows and 24 columns."
   ]
  },
  {
   "cell_type": "code",
   "execution_count": 7,
   "metadata": {},
   "outputs": [
    {
     "data": {
      "text/html": [
       "<div>\n",
       "<style scoped>\n",
       "    .dataframe tbody tr th:only-of-type {\n",
       "        vertical-align: middle;\n",
       "    }\n",
       "\n",
       "    .dataframe tbody tr th {\n",
       "        vertical-align: top;\n",
       "    }\n",
       "\n",
       "    .dataframe thead th {\n",
       "        text-align: right;\n",
       "    }\n",
       "</style>\n",
       "<table border=\"1\" class=\"dataframe\">\n",
       "  <thead>\n",
       "    <tr style=\"text-align: right;\">\n",
       "      <th></th>\n",
       "      <th>inspection_id</th>\n",
       "      <th>DBA Name</th>\n",
       "      <th>AKA Name</th>\n",
       "      <th>License Number</th>\n",
       "      <th>Facility_Type</th>\n",
       "      <th>Risk</th>\n",
       "      <th>Address</th>\n",
       "      <th>City</th>\n",
       "      <th>State</th>\n",
       "      <th>Zip</th>\n",
       "      <th>...</th>\n",
       "      <th>Latitude</th>\n",
       "      <th>Longitude</th>\n",
       "      <th>Point_id</th>\n",
       "      <th>Ward</th>\n",
       "      <th>Census Tracts</th>\n",
       "      <th>Community Areas</th>\n",
       "      <th>Fine</th>\n",
       "      <th>Category</th>\n",
       "      <th>Point_level</th>\n",
       "      <th>Inspector_Comments</th>\n",
       "    </tr>\n",
       "  </thead>\n",
       "  <tbody>\n",
       "    <tr>\n",
       "      <th>0</th>\n",
       "      <td>1983114</td>\n",
       "      <td>Hong Kong Buffet Corporation</td>\n",
       "      <td>HONG KONG BUFFET</td>\n",
       "      <td>1273946</td>\n",
       "      <td>Restaurant</td>\n",
       "      <td>Risk 1 (High)</td>\n",
       "      <td>6249 N MCCORMICK RD</td>\n",
       "      <td>CHICAGO</td>\n",
       "      <td>IL</td>\n",
       "      <td>60659</td>\n",
       "      <td>...</td>\n",
       "      <td>41.995441</td>\n",
       "      <td>-87.712917</td>\n",
       "      <td>1</td>\n",
       "      <td>NaN</td>\n",
       "      <td>NaN</td>\n",
       "      <td>NaN</td>\n",
       "      <td>500</td>\n",
       "      <td>Food Protection</td>\n",
       "      <td>Critical</td>\n",
       "      <td>NOTED FOOD NOT IN SOUND CONDITION. NOTED A BAG...</td>\n",
       "    </tr>\n",
       "    <tr>\n",
       "      <th>1</th>\n",
       "      <td>1982908</td>\n",
       "      <td>Pete's Fresh Market</td>\n",
       "      <td>PETE'S FRESH MARKET</td>\n",
       "      <td>2309123</td>\n",
       "      <td>Grocery Store</td>\n",
       "      <td>Risk 1 (High)</td>\n",
       "      <td>2333 W MADISON ST</td>\n",
       "      <td>CHICAGO</td>\n",
       "      <td>IL</td>\n",
       "      <td>60612</td>\n",
       "      <td>...</td>\n",
       "      <td>41.881069</td>\n",
       "      <td>-87.685308</td>\n",
       "      <td>1</td>\n",
       "      <td>NaN</td>\n",
       "      <td>NaN</td>\n",
       "      <td>NaN</td>\n",
       "      <td>500</td>\n",
       "      <td>Food Protection</td>\n",
       "      <td>Critical</td>\n",
       "      <td>FOUND OYSTERS, CLAMS, AND MUSSELS COMINGLING W...</td>\n",
       "    </tr>\n",
       "    <tr>\n",
       "      <th>2</th>\n",
       "      <td>1982488</td>\n",
       "      <td>Quality Catering</td>\n",
       "      <td>QUALITY CATERING</td>\n",
       "      <td>2500820</td>\n",
       "      <td>Mobile Food Dispenser</td>\n",
       "      <td>Risk 3 (Low)</td>\n",
       "      <td>1204 W 36TH PL</td>\n",
       "      <td>CHICAGO</td>\n",
       "      <td>IL</td>\n",
       "      <td>60609</td>\n",
       "      <td>...</td>\n",
       "      <td>41.828094</td>\n",
       "      <td>-87.655854</td>\n",
       "      <td>1</td>\n",
       "      <td>NaN</td>\n",
       "      <td>NaN</td>\n",
       "      <td>NaN</td>\n",
       "      <td>500</td>\n",
       "      <td>Food Protection</td>\n",
       "      <td>Critical</td>\n",
       "      <td>NO APPROVED COMMISSARY. FOOD MUST COME FROM AN...</td>\n",
       "    </tr>\n",
       "    <tr>\n",
       "      <th>3</th>\n",
       "      <td>1981443</td>\n",
       "      <td>Calmeca Academy Of Fine Arts And Dual Language</td>\n",
       "      <td>CALMECA ACADEMY</td>\n",
       "      <td>2321636</td>\n",
       "      <td>School Cafeteria</td>\n",
       "      <td>Risk 1 (High)</td>\n",
       "      <td>3456 W 38TH ST</td>\n",
       "      <td>CHICAGO</td>\n",
       "      <td>IL</td>\n",
       "      <td>60632</td>\n",
       "      <td>...</td>\n",
       "      <td>41.824405</td>\n",
       "      <td>-87.711609</td>\n",
       "      <td>1</td>\n",
       "      <td>NaN</td>\n",
       "      <td>NaN</td>\n",
       "      <td>NaN</td>\n",
       "      <td>500</td>\n",
       "      <td>Food Protection</td>\n",
       "      <td>Critical</td>\n",
       "      <td>OBSERVED 343 HALF PINT CONTAINERS OF MILK OUT ...</td>\n",
       "    </tr>\n",
       "    <tr>\n",
       "      <th>4</th>\n",
       "      <td>1976633</td>\n",
       "      <td>Mariano's</td>\n",
       "      <td>MARIANO'S</td>\n",
       "      <td>2313619</td>\n",
       "      <td>Grocery Store</td>\n",
       "      <td>Risk 1 (High)</td>\n",
       "      <td>1800 W LAWRENCE AVE</td>\n",
       "      <td>CHICAGO</td>\n",
       "      <td>IL</td>\n",
       "      <td>60640</td>\n",
       "      <td>...</td>\n",
       "      <td>41.968926</td>\n",
       "      <td>-87.674586</td>\n",
       "      <td>1</td>\n",
       "      <td>NaN</td>\n",
       "      <td>NaN</td>\n",
       "      <td>NaN</td>\n",
       "      <td>500</td>\n",
       "      <td>Food Protection</td>\n",
       "      <td>Critical</td>\n",
       "      <td>FOUND 2 TRAYS WITH RAW FRESH OYSTER WITHOUT TA...</td>\n",
       "    </tr>\n",
       "  </tbody>\n",
       "</table>\n",
       "<p>5 rows × 24 columns</p>\n",
       "</div>"
      ],
      "text/plain": [
       "   inspection_id                                        DBA Name  \\\n",
       "0        1983114                    Hong Kong Buffet Corporation   \n",
       "1        1982908                             Pete's Fresh Market   \n",
       "2        1982488                                Quality Catering   \n",
       "3        1981443  Calmeca Academy Of Fine Arts And Dual Language   \n",
       "4        1976633                                       Mariano's   \n",
       "\n",
       "              AKA Name  License Number          Facility_Type           Risk  \\\n",
       "0     HONG KONG BUFFET         1273946             Restaurant  Risk 1 (High)   \n",
       "1  PETE'S FRESH MARKET         2309123          Grocery Store  Risk 1 (High)   \n",
       "2     QUALITY CATERING         2500820  Mobile Food Dispenser   Risk 3 (Low)   \n",
       "3      CALMECA ACADEMY         2321636       School Cafeteria  Risk 1 (High)   \n",
       "4            MARIANO'S         2313619          Grocery Store  Risk 1 (High)   \n",
       "\n",
       "               Address     City State    Zip  ...   Latitude  Longitude  \\\n",
       "0  6249 N MCCORMICK RD  CHICAGO    IL  60659  ...  41.995441 -87.712917   \n",
       "1    2333 W MADISON ST  CHICAGO    IL  60612  ...  41.881069 -87.685308   \n",
       "2       1204 W 36TH PL  CHICAGO    IL  60609  ...  41.828094 -87.655854   \n",
       "3       3456 W 38TH ST  CHICAGO    IL  60632  ...  41.824405 -87.711609   \n",
       "4  1800 W LAWRENCE AVE  CHICAGO    IL  60640  ...  41.968926 -87.674586   \n",
       "\n",
       "  Point_id Ward  Census Tracts  Community Areas  Fine         Category  \\\n",
       "0        1  NaN            NaN              NaN   500  Food Protection   \n",
       "1        1  NaN            NaN              NaN   500  Food Protection   \n",
       "2        1  NaN            NaN              NaN   500  Food Protection   \n",
       "3        1  NaN            NaN              NaN   500  Food Protection   \n",
       "4        1  NaN            NaN              NaN   500  Food Protection   \n",
       "\n",
       "   Point_level                                 Inspector_Comments  \n",
       "0     Critical  NOTED FOOD NOT IN SOUND CONDITION. NOTED A BAG...  \n",
       "1     Critical  FOUND OYSTERS, CLAMS, AND MUSSELS COMINGLING W...  \n",
       "2     Critical  NO APPROVED COMMISSARY. FOOD MUST COME FROM AN...  \n",
       "3     Critical  OBSERVED 343 HALF PINT CONTAINERS OF MILK OUT ...  \n",
       "4     Critical  FOUND 2 TRAYS WITH RAW FRESH OYSTER WITHOUT TA...  \n",
       "\n",
       "[5 rows x 24 columns]"
      ]
     },
     "execution_count": 7,
     "metadata": {},
     "output_type": "execute_result"
    }
   ],
   "source": [
    "#Viewing of the dataset\n",
    "\n",
    "food_inspections_df.head()"
   ]
  },
  {
   "cell_type": "code",
   "execution_count": 8,
   "metadata": {},
   "outputs": [
    {
     "data": {
      "text/plain": [
       "True"
      ]
     },
     "execution_count": 8,
     "metadata": {},
     "output_type": "execute_result"
    }
   ],
   "source": [
    "#Checking for 'Uniqueness' in column 'inspection_id'\n",
    "\n",
    "pd.Series(food_inspections_df[\"inspection_id\"]).is_unique\n"
   ]
  },
  {
   "cell_type": "code",
   "execution_count": 9,
   "metadata": {},
   "outputs": [],
   "source": [
    "# **Transformations**\n",
    "\n",
    "#After viewing the df, it was noticed that there are mixed case letters. Converting entire dataframe to titlecase for 'Consistency'\n",
    "\n",
    "food_inspections_df = food_inspections_df.applymap(lambda s: s.title() if type(s) == str else s)\n"
   ]
  },
  {
   "cell_type": "code",
   "execution_count": 10,
   "metadata": {},
   "outputs": [
    {
     "data": {
      "text/plain": [
       "array(['Chicago', 'Cchicago', 'Chiccaago', 'Chicagoi', 'Chchicago',\n",
       "       'Chestnut Street', 'Summit', nan, 'Chcicago', 'Bedford Park',\n",
       "       'Charles A Hayes'], dtype=object)"
      ]
     },
     "execution_count": 10,
     "metadata": {},
     "output_type": "execute_result"
    }
   ],
   "source": [
    "#Implementing 'Consistency' on column 'City'.\n",
    "\n",
    "food_inspections_df['City'].unique()"
   ]
  },
  {
   "cell_type": "code",
   "execution_count": 11,
   "metadata": {},
   "outputs": [],
   "source": [
    "food_inspections_df[\"City\"] = food_inspections_df[\"City\"].replace([\"Chicagoi\", \"Cchicago\", \"Chchicago\", \"Chcicago\", \"nan\", \"Chiccaago\"], \"Chicago\")"
   ]
  },
  {
   "cell_type": "code",
   "execution_count": 12,
   "metadata": {},
   "outputs": [
    {
     "data": {
      "text/plain": [
       "array(['Canvass', 'Complaint', 'License', 'Short Form Complaint',\n",
       "       'Canvass Re-Inspection', 'Suspected Food Poisoning',\n",
       "       'Complaint Re-Inspection', 'License Re-Inspection', 'Consultation',\n",
       "       'Complaint-Fire Re-Inspection', 'Complaint-Fire',\n",
       "       'Task Force Liquor 1475', 'License-Task Force', 'Sfp/Complaint',\n",
       "       'Tag Removal', 'Recent Inspection',\n",
       "       'Suspected Food Poisoning Re-Inspection',\n",
       "       '1315 License Reinspection',\n",
       "       'License Renewal Inspection For Daycare', 'Task Force',\n",
       "       'Short Form Fire-Complaint', 'Package Liquor 1474', 'Sfp',\n",
       "       'Reinspection Of 48 Hour Notice', 'Special Events (Festivals)',\n",
       "       'Re-Inspection Of Close-Up', 'Liquor Catering',\n",
       "       'Special Task Force', 'No Entry', 'Illegal Operation',\n",
       "       'Pre-License Consultation', 'Task Force(1470) Liquor Tavern',\n",
       "       'Task Force Night', 'Tavern 1470', 'People Ate And Got Sick.',\n",
       "       'Non-Inspection', 'Task Force Package Liquor', 'Reinspection',\n",
       "       'Canvass/Special Event', 'Possible Fbi', 'Expansion',\n",
       "       'Smoking Complaint', 'Canvas', 'Canvass For Rib Fest',\n",
       "       'Canvass Special Events', 'Canvass School/Special Event',\n",
       "       'Day Care License Renewal', 'Citf'], dtype=object)"
      ]
     },
     "execution_count": 12,
     "metadata": {},
     "output_type": "execute_result"
    }
   ],
   "source": [
    "#Implementing 'Consistency' and 'Validity' on column 'Inspection_Type'\n",
    "food_inspections_df['Inspection_Type'].unique()"
   ]
  },
  {
   "cell_type": "code",
   "execution_count": 13,
   "metadata": {},
   "outputs": [],
   "source": [
    "food_inspections_df[\"Inspection_Type\"] = food_inspections_df[\"Inspection_Type\"].replace([\"Canvas\"], \"Canvass\")\n",
    "food_inspections_df[\"Inspection_Type\"] = food_inspections_df[\"Inspection_Type\"].replace([\"Canvass/Special Event\", \"Canvass School/Special Event\"], \"Canvass Special Events\")\n",
    "food_inspections_df[\"Inspection_Type\"] = food_inspections_df[\"Inspection_Type\"].replace([\"Sfp\"], \"Sfp/Complaint\")"
   ]
  },
  {
   "cell_type": "code",
   "execution_count": 14,
   "metadata": {},
   "outputs": [],
   "source": [
    "#Implementing 'Consistency' and 'Validity', 'Accuracy' on column 'DBA Name'\n",
    "\n",
    "food_inspections_df['DBA Name'] = food_inspections_df['DBA Name'].replace([\"Starbucks\", \"Starbucks\", \"Starbucks (franchisee)\", \"Starbucks #231\"],\"Starbucks Coffee\")\n",
    "food_inspections_df['DBA Name'] = food_inspections_df['DBA Name'].replace([\"C-K Subway\",\"Subway\", \"Subway Restaurant\", \"Downtown Bp & Subway\", \"Subway Sandwiches\", \"Subway / Tcby\", \"Subway Sandwich\", \"Subway Sandwiches #22222\", \"Subway Restaurant #35406\", \"Subway Sandwich & Salad\", \"Subway Sandwiches #27143\", \"Subway Store #30969\", \"Subway Sandwich Shop\", \"Subway Store  # 25458\", \"Subway Sanwich Shop\", \"Lakeview Subway\", \"Subway Restaurant 1\", \"Subway At Norwegian American Hospital\", \"Subway Subs And Salads\", \"Subway Sandwiches\", \"Subway Sandwich Store\", \"Shell Subway\"],\"Subway Sandwiches & Salad\")\n",
    "food_inspections_df['DBA Name'] = food_inspections_df['DBA Name'].replace([\"Target #t-2373\", \"Target - Store T-1488\", \"Target #1924\"],\"Target\")\n",
    "food_inspections_df['DBA Name'] = food_inspections_df['DBA Name'].replace([\"Burger King Restaurant\", \"Burger King Restaurant # 5495\"],\"Burger King\")\n",
    "food_inspections_df['DBA Name'] = food_inspections_df['DBA Name'].replace([\"Sodexho- Iit\", \"Sodexo America, Llc\", \"Sodexo At Cchhs Stroger Hospital\", \"Sodexho\"],\"Sodexo America\")\n",
    "food_inspections_df['DBA Name'] = food_inspections_df['DBA Name'].replace([\"Mcdonald'S Corporation\", \"Mcdonalds'S Restaurants\", \"Mcdonald'S Store #4061\"],\"McDonalds\")"
   ]
  },
  {
   "cell_type": "code",
   "execution_count": 15,
   "metadata": {},
   "outputs": [
    {
     "data": {
      "text/plain": [
       "array(['Hong Kong Buffet Corporation', \"Pete'S Fresh Market\",\n",
       "       'Quality Catering', ..., 'La Michoacana Jugolandia #1 Ltd',\n",
       "       'Kikka At Whole Foods Edgewater', 'Canaryville S A C'],\n",
       "      dtype=object)"
      ]
     },
     "execution_count": 15,
     "metadata": {},
     "output_type": "execute_result"
    }
   ],
   "source": [
    "food_inspections_df['DBA Name'].unique()"
   ]
  },
  {
   "cell_type": "code",
   "execution_count": 16,
   "metadata": {},
   "outputs": [],
   "source": [
    "#Implementing 'Consistency' and 'Validity', 'Accuracy' on column 'Facility_Type'\n",
    "\n",
    "food_inspections_df['Facility_Type'] = food_inspections_df['Facility_Type'].replace([\"Dollar Store\", \"Dollar Store Selling Grocery\"],\"Dollar & Grocery Store\")\n",
    "food_inspections_df['Facility_Type'] = food_inspections_df['Facility_Type'].replace([\"Icecream\", \"Ice Cream Parlor\"],\"Icecream Shop\")"
   ]
  },
  {
   "cell_type": "code",
   "execution_count": 17,
   "metadata": {},
   "outputs": [],
   "source": [
    "#Implementing 'Conformity', 'Validity','Accuracy' on column 'State'\n",
    "\n",
    "food_inspections_df['State'] = food_inspections_df['State'].replace([\"Il\"],\"IL\")"
   ]
  },
  {
   "cell_type": "code",
   "execution_count": 18,
   "metadata": {},
   "outputs": [
    {
     "data": {
      "text/plain": [
       "array(['IL', nan], dtype=object)"
      ]
     },
     "execution_count": 18,
     "metadata": {},
     "output_type": "execute_result"
    }
   ],
   "source": [
    "food_inspections_df['State'].unique()"
   ]
  },
  {
   "cell_type": "code",
   "execution_count": 19,
   "metadata": {},
   "outputs": [
    {
     "data": {
      "text/plain": [
       "19"
      ]
     },
     "execution_count": 19,
     "metadata": {},
     "output_type": "execute_result"
    }
   ],
   "source": [
    "#Checking for count of null values in column 'City' and 'State'\n",
    "\n",
    "food_inspections_df['City'].isnull().sum()"
   ]
  },
  {
   "cell_type": "code",
   "execution_count": 20,
   "metadata": {},
   "outputs": [
    {
     "data": {
      "text/plain": [
       "5"
      ]
     },
     "execution_count": 20,
     "metadata": {},
     "output_type": "execute_result"
    }
   ],
   "source": [
    "food_inspections_df['State'].isnull().sum()"
   ]
  },
  {
   "cell_type": "code",
   "execution_count": 21,
   "metadata": {},
   "outputs": [],
   "source": [
    "#Implementing 'Completeness' on columns 'City' and 'State'\n",
    "\n",
    "food_inspections_df[\"City\"] = food_inspections_df[\"City\"].fillna(\"Chicago\")"
   ]
  },
  {
   "cell_type": "code",
   "execution_count": 22,
   "metadata": {},
   "outputs": [],
   "source": [
    "food_inspections_df['State'] = food_inspections_df['State'].fillna(\"IL\")"
   ]
  },
  {
   "cell_type": "code",
   "execution_count": 23,
   "metadata": {},
   "outputs": [
    {
     "data": {
      "text/plain": [
       "array(['IL'], dtype=object)"
      ]
     },
     "execution_count": 23,
     "metadata": {},
     "output_type": "execute_result"
    }
   ],
   "source": [
    "food_inspections_df['State'].unique()"
   ]
  },
  {
   "cell_type": "code",
   "execution_count": 24,
   "metadata": {},
   "outputs": [],
   "source": [
    "#Dropping columns 'Ward', 'Census Tracts' and 'Community Areas' as they are empty \n",
    "\n",
    "food_inspections_df = food_inspections_df.drop(['Ward', 'Census Tracts', 'Community Areas'], axis = 1)"
   ]
  },
  {
   "cell_type": "code",
   "execution_count": 25,
   "metadata": {},
   "outputs": [],
   "source": [
    "# **Staging the file after processing/cleaning it the transformation stage**\n",
    "\n",
    "food_inspections_df.to_csv(preprocessed_file, encoding='utf-8', index=False)\n"
   ]
  }
 ],
 "metadata": {
  "interpreter": {
   "hash": "02d42c9b4c0b801aaebb2f515513dbba2222c794c91929b2482cbece47c9ec34"
  },
  "kernelspec": {
   "display_name": "Python 3.9.6 64-bit",
   "language": "python",
   "name": "python3"
  },
  "language_info": {
   "codemirror_mode": {
    "name": "ipython",
    "version": 3
   },
   "file_extension": ".py",
   "mimetype": "text/x-python",
   "name": "python",
   "nbconvert_exporter": "python",
   "pygments_lexer": "ipython3",
   "version": "3.9.6"
  },
  "orig_nbformat": 4
 },
 "nbformat": 4,
 "nbformat_minor": 2
}
